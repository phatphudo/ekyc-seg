{
 "cells": [
  {
   "cell_type": "code",
   "execution_count": 7,
   "metadata": {},
   "outputs": [],
   "source": [
    "import os\n",
    "import cv2\n",
    "import numpy as np"
   ]
  },
  {
   "cell_type": "markdown",
   "metadata": {},
   "source": [
    "### Copy imgs"
   ]
  },
  {
   "cell_type": "code",
   "execution_count": 29,
   "metadata": {},
   "outputs": [],
   "source": [
    "DATA_DIR = 'data/'\n",
    "DIR_ORG = DATA_DIR + 'v1.0.2/'\n",
    "DIR_SYN = DATA_DIR + 'synthetic/origin/'"
   ]
  },
  {
   "cell_type": "code",
   "execution_count": 30,
   "metadata": {},
   "outputs": [
    {
     "data": {
      "text/plain": [
       "['cccd_v1_back',\n",
       " 'cccd_v1_front',\n",
       " 'cccd_v2_back',\n",
       " 'cccd_v2_front',\n",
       " 'cmnd_v1_back',\n",
       " 'cmnd_v1_front']"
      ]
     },
     "execution_count": 30,
     "metadata": {},
     "output_type": "execute_result"
    }
   ],
   "source": [
    "dirs = os.listdir(DIR_ORG)\n",
    "dirs"
   ]
  },
  {
   "cell_type": "code",
   "execution_count": 34,
   "metadata": {},
   "outputs": [],
   "source": [
    "new_dirs = ['CitizenCardV1_back', 'CitizenCardV1_front', 'CitizenCardV2_back', 'CitizenCardV2_front', 'IdentificationCard_back', 'IdentificationCard_front']"
   ]
  },
  {
   "cell_type": "code",
   "execution_count": 40,
   "metadata": {},
   "outputs": [
    {
     "name": "stdout",
     "output_type": "stream",
     "text": [
      "cccd_v1_back : 1925 ---> CitizenCardV1_back : 385\n",
      "cccd_v1_front : 2000 ---> CitizenCardV1_front : 400\n",
      "cccd_v2_back : 1700 ---> CitizenCardV2_back : 340\n",
      "cccd_v2_front : 1965 ---> CitizenCardV2_front : 393\n",
      "cmnd_v1_back : 1920 ---> IdentificationCard_back : 384\n",
      "cmnd_v1_front : 1915 ---> IdentificationCard_front : 383\n"
     ]
    }
   ],
   "source": [
    "import shutil\n",
    "\n",
    "for j, dir in enumerate(dirs):\n",
    "    src_dir = DIR_ORG + dir + '/images/part_1/'\n",
    "    imgs = list(sorted(os.listdir(src_dir)))\n",
    "\n",
    "    dst_dir = DIR_SYN + new_dirs[j] + '/'\n",
    "    os.makedirs(dst_dir, exist_ok=True)\n",
    "    \n",
    "    i = 0\n",
    "    while i < len(imgs):\n",
    "        img_name = imgs[i].split('.')[0]\n",
    "        img_name = '_'.join(p for p in img_name.split('_')[1:-1])\n",
    "        if img_name.startswith('_'):\n",
    "            img_name = '_'.join(p for p in img_name.split('_')[1:])\n",
    "        \n",
    "        if not os.path.exists(dst_dir + imgs[i]):\n",
    "            shutil.copy(src_dir + imgs[i], dst_dir + img_name + '.png')\n",
    "        i += 5\n",
    "\n",
    "    print(f\"{dir} : {len(imgs)} ---> {new_dirs[j]} : {len(os.listdir(dst_dir))}\")\n",
    "\n"
   ]
  },
  {
   "cell_type": "markdown",
   "metadata": {},
   "source": [
    "### Data Syntheis"
   ]
  },
  {
   "cell_type": "code",
   "execution_count": 3,
   "metadata": {},
   "outputs": [],
   "source": [
    "DATA_DIR = 'data/synthetic/'\n",
    "DIR_BG = DATA_DIR + 'background/'\n",
    "DIR_ORG = DATA_DIR + 'origin/'\n",
    "DIR_SYN = DATA_DIR + 'synthesis/'"
   ]
  },
  {
   "cell_type": "code",
   "execution_count": 4,
   "metadata": {},
   "outputs": [
    {
     "data": {
      "text/plain": [
       "['CitizenCardV1_back',\n",
       " 'CitizenCardV1_front',\n",
       " 'CitizenCardV2_back',\n",
       " 'CitizenCardV2_front',\n",
       " 'IdentificationCard_back',\n",
       " 'IdentificationCard_front']"
      ]
     },
     "execution_count": 4,
     "metadata": {},
     "output_type": "execute_result"
    }
   ],
   "source": [
    "dirs = os.listdir(DIR_ORG)\n",
    "dirs"
   ]
  },
  {
   "cell_type": "code",
   "execution_count": null,
   "metadata": {},
   "outputs": [],
   "source": [
    "import cv2\n",
    "\n",
    "def synthesis(img, dst_img):\n",
    "\n",
    "\n",
    "    cv2.imread(src_img)\n",
    "\n",
    "    cv2."
   ]
  },
  {
   "cell_type": "code",
   "execution_count": 85,
   "metadata": {},
   "outputs": [],
   "source": [
    "def get_params(width: int, height: int, distortion_scale: float):\n",
    "    \"\"\"Get parameters for ``perspective`` for a random perspective transform.\n",
    "\n",
    "    Args:\n",
    "        width (int): width of the image.\n",
    "        height (int): height of the image.\n",
    "        distortion_scale (float): argument to control the degree of distortion and ranges from 0 to 1.\n",
    "\n",
    "    Returns:\n",
    "        List containing [top-left, top-right, bottom-right, bottom-left] of the original image,\n",
    "        List containing [top-left, top-right, bottom-right, bottom-left] of the transformed image.\n",
    "    \"\"\"\n",
    "    half_height = height // 2\n",
    "    half_width = width // 2\n",
    "    topleft = np.array([\n",
    "        int(np.random.randint(0, int(distortion_scale * half_width) + 1, size=(1,))),\n",
    "        int(np.random.randint(0, int(distortion_scale * half_height) + 1, size=(1,))),\n",
    "    ])\n",
    "    topright = np.array([\n",
    "        int(np.random.randint(width - int(distortion_scale * half_width) - 1, width, size=(1,))),\n",
    "        int(np.random.randint(0, int(distortion_scale * half_height) + 1, size=(1,))),\n",
    "    ])\n",
    "    botright = np.array([\n",
    "        int(np.random.randint(width - int(distortion_scale * half_width) - 1, width, size=(1,))),\n",
    "        int(np.random.randint(height - int(distortion_scale * half_height) - 1, height, size=(1,))),\n",
    "    ])\n",
    "    botleft = np.array([\n",
    "        int(np.random.randint(0, int(distortion_scale * half_width) + 1, size=(1,))),\n",
    "        int(np.random.randint(height - int(distortion_scale * half_height) - 1, height, size=(1,))),\n",
    "    ])\n",
    "    startpoints = np.array([[0, 0], [width - 1, 0], [width - 1, height - 1], [0, height - 1]], dtype='float32')\n",
    "    endpoints = np.array([topleft, topright, botright, botleft], dtype='float32')\n",
    "    return startpoints, endpoints"
   ]
  },
  {
   "cell_type": "code",
   "execution_count": 21,
   "metadata": {},
   "outputs": [],
   "source": [
    "import matplotlib.pyplot as plt\n",
    "\n",
    "def show_cv_img(img):\n",
    "    plt.imshow(cv2.cvtColor(img, cv2.COLOR_BGR2RGB))\n",
    "    # plt.axis('off')\n"
   ]
  },
  {
   "cell_type": "code",
   "execution_count": 200,
   "metadata": {},
   "outputs": [
    {
     "name": "stdout",
     "output_type": "stream",
     "text": [
      "(480, 746, 3)\n",
      "[[  9.  28.]\n",
      " [690.  18.]\n",
      " [714. 466.]\n",
      " [ 41. 467.]]\n",
      "(480, 746, 3) (449, 705, 3)\n",
      "[[ 9 18]]\n",
      "[[  0.  10.]\n",
      " [681.   0.]\n",
      " [705. 448.]\n",
      " [ 32. 449.]]\n",
      "643 386\n",
      "[[544 619]]\n",
      "[[ 643.  396.]\n",
      " [1324.  386.]\n",
      " [1348.  834.]\n",
      " [ 675.  835.]]\n"
     ]
    },
    {
     "data": {
      "image/png": "[encoded data removed]",
      "text/plain": [
       "<Figure size 432x288 with 1 Axes>"
      ]
     },
     "metadata": {
      "needs_background": "light"
     },
     "output_type": "display_data"
    }
   ],
   "source": [
    "\n",
    "for dir in dirs:\n",
    "    src_dir = DIR_ORG + dir + '/'\n",
    "    dst_dir = DIR_SYN + dir + '/'\n",
    "    os.makedirs(dst_dir, exist_ok=True)\n",
    "\n",
    "    imgs_org = list(sorted(os.listdir(src_dir)))\n",
    "\n",
    "    for img_name in imgs_org:\n",
    "        \n",
    "        img = cv2.imread(src_dir + img_name)\n",
    "\n",
    "        # show_cv_img(img)\n",
    "        print(img.shape)\n",
    "        height, width = img.shape[:2]\n",
    "\n",
    "        src, dst = get_params(width, height, distortion_scale=0.15)\n",
    "        trans_mat = cv2.getPerspectiveTransform(src, dst)\n",
    "        warp = cv2.warpPerspective(img, trans_mat, (width, height))\n",
    "        # for corner in dst:\n",
    "        #     cv2.circle(warp, tuple(map(int, corner)), radius=10, color=(0, 0, 255), thickness=-1)\n",
    "        \n",
    "        print(dst)\n",
    "        mins = np.min(dst, axis=0)\n",
    "        x_min, y_min = map(int, (mins[0], mins[1]))\n",
    "        maxs = np.max(dst, axis=0)\n",
    "        x_max, y_max = map(int, (maxs[0], maxs[1]))\n",
    "\n",
    "        # print(x_min, y_min, x_max, y_max)\n",
    "        cut = warp[y_min:y_max, x_min:x_max]\n",
    "\n",
    "        print(warp.shape, cut.shape)\n",
    "\n",
    "        # show_cv_img(warp)\n",
    "\n",
    "        cut_height, cut_width = cut.shape[:2]\n",
    "        # print(cut.shape)\n",
    "        # diff = np.array([[height - cut_height, width - cut_width]])\n",
    "        diff = np.array([[x_min, y_min]])\n",
    "        print(diff)\n",
    "        dst_cut = dst - diff\n",
    "        print(dst_cut)\n",
    "        # for corner in dst_cut:\n",
    "        #     cv2.circle(cut, tuple(map(int, corner)), radius=10, color=(0, 0, 255), thickness=-1)\n",
    "        \n",
    "        mask_cut = np.zeros(cut.shape, np.uint8)        \n",
    "        cv2.drawContours(mask_cut, [dst_cut.reshape((-1,1,2)).astype('int32')], -1, (255, 255, 255), -1)\n",
    "        show_cv_img(mask_cut)\n",
    "\n",
    "        bg = cv2.imread(DIR_BG + 'bg_0.jpeg')\n",
    "        bg_org = bg.copy()\n",
    "        # print(bg.shape)\n",
    "        bg_height, bg_width = bg.shape[:2]\n",
    "\n",
    "        # rand_x = np.random.randint(cut_width//2 + 1, bg_width - cut_width//2 - 1)\n",
    "        # rand_y = np.random.randint(cut_height//2 + 1, bg_height - cut_height//2 - 1)\n",
    "        # rand_center = (rand_x, rand_y)\n",
    "        # print(rand_center)\n",
    "        # cv2.circle(bg, rand_center, radius=10, color=(255, 0, 0), thickness=-1)\n",
    "\n",
    "        # mask = np.zeros(cut.shape, cut.dtype)\n",
    "        # cv2.fillPoly(mask, [dst.astype('int32')], (255, 255, 255))\n",
    "        # clone = cv2.seamlessClone(cut, bg, mask, rand_center, cv2.NORMAL_CLONE)\n",
    "\n",
    "        rand_x = np.random.randint(0, bg_width - cut_width - 1)\n",
    "        rand_y = np.random.randint(0, bg_height - cut_height - 1)\n",
    "        print(rand_x, rand_y)\n",
    "        # cv2.circle(bg, (rand_x, rand_y), radius=10, color=(255, 0, 0), thickness=-1)      \n",
    "\n",
    "        # bg[rand_y:rand_y+cut_height, rand_x:rand_x+cut_width] = cut\n",
    "        # show_cv_img(bg)\n",
    "        # cv2.imwrite(DIR_SYN + 'test.png', bg)\n",
    "\n",
    "        rand_start = np.array([[rand_x, rand_y]])\n",
    "        diff = np.array([[bg_height - height, bg_width - width]], dtype='int32')\n",
    "        print(diff)\n",
    "\n",
    "        corners = rand_start + dst_cut # - diff\n",
    "        print(corners)\n",
    "        # for corner in corners:\n",
    "        #     cv2.circle(bg, tuple(map(int, corner)), radius=10, color=(0, 0, 255), thickness=-1)\n",
    "        # show_cv_img(bg)\n",
    "\n",
    "\n",
    "\n",
    "        # show_cv_img(warp)\n",
    "        \n",
    "        fin_cut = cv2.cvtColor(cut, cv2.COLOR_RGB2RGBA)\n",
    "        b, g, r, a = cv2.split(fin_cut)\n",
    "        a = mask_cut\n",
    "        fin_cut[:,:, 0] = cut[:,:,0]\n",
    "        fin_cut[:,:, 1] = cut[:,:,1]\n",
    "        fin_cut[:,:, 2] = cut[:,:,2]\n",
    "        fin_cut[:,:, 3] = a[:,:,0]\n",
    "\n",
    "        alpha_s = fin_cut[:, :, 3] / 255.\n",
    "        alpha_l = 1. - alpha_s\n",
    "\n",
    "        for c in range(0, 3):\n",
    "            bg[rand_y:rand_y+cut_height, rand_x:rand_x+cut_width, c] = (alpha_s * cut[:, :, c] +\n",
    "                              alpha_l * bg[rand_y:rand_y+cut_height, rand_x:rand_x+cut_width, c])\n",
    "\n",
    "        mask_bg = np.zeros(bg.shape, dtype='uint8')\n",
    "        mask_bg[rand_y:rand_y+cut_height, rand_x:rand_x+cut_width] = mask_cut\n",
    "        #show_cv_img(mask_bg)\n",
    "\n",
    "        alpha = cv2.GaussianBlur(mask_bg, (35, 35), 50).astype('float32') / 255.\n",
    "        # show_cv_img(alpha)\n",
    "\n",
    "        comp = alpha * bg.astype('float32') + (1 - alpha) * bg_org.astype('float32')\n",
    "        # show_cv_img(comp.astype('uint8'))        \n",
    "\n",
    "        cv2.circle(comp, (rand_x, rand_y), radius=5, color=(255, 0, 0), thickness=-1)\n",
    "        cv2.rectangle(comp, (rand_x, rand_y), (rand_x+cut_width, rand_y+cut_height), (0, 255, 0))\n",
    "        for corner in corners:\n",
    "            cv2.circle(comp, tuple(map(int, corner)), radius=5, color=(0, 0, 255), thickness=-1)\n",
    "\n",
    "        # show_cv_img(bg)\n",
    "        cv2.imwrite(DIR_SYN + 'cut.png', comp)\n",
    "        cv2.imwrite(DIR_SYN + 'mask_bg.png', mask_bg)\n",
    "        cv2.imwrite(DIR_SYN + 'alpha.png', (alpha * 255.).astype('uint8'))\n",
    "\n",
    "        break\n",
    "\n",
    "    break"
   ]
  },
  {
   "cell_type": "code",
   "execution_count": null,
   "metadata": {},
   "outputs": [],
   "source": []
  }
 ],
 "metadata": {
  "interpreter": {
   "hash": "7641052d6760fd4b0577988d5c63a2ad36bf4fbb0e0da31283f90db6ffd2260e"
  },
  "kernelspec": {
   "display_name": "Python 3.9.7 ('ve1')",
   "language": "python",
   "name": "python3"
  },
  "language_info": {
   "codemirror_mode": {
    "name": "ipython",
    "version": 3
   },
   "file_extension": ".py",
   "mimetype": "text/x-python",
   "name": "python",
   "nbconvert_exporter": "python",
   "pygments_lexer": "ipython3",
   "version": "3.9.7"
  },
  "orig_nbformat": 4
 },
 "nbformat": 4,
 "nbformat_minor": 2
}
