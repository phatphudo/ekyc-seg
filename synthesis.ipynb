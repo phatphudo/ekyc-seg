{
 "cells": [
  {
   "cell_type": "code",
   "execution_count": 6,
   "metadata": {},
   "outputs": [],
   "source": [
    "import os\n",
    "import cv2\n",
    "import numpy as np\n",
    "from pprint import pprint\n",
    "import json"
   ]
  },
  {
   "cell_type": "markdown",
   "metadata": {},
   "source": [
    "### Util functions"
   ]
  },
  {
   "cell_type": "code",
   "execution_count": 10,
   "metadata": {},
   "outputs": [],
   "source": [
    "import matplotlib.pyplot as plt\n",
    "\n",
    "def show_cv_img(img):\n",
    "    plt.imshow(cv2.cvtColor(img, cv2.COLOR_BGR2RGB))\n",
    "    # plt.axis('off')\n"
   ]
  },
  {
   "cell_type": "code",
   "execution_count": 11,
   "metadata": {},
   "outputs": [],
   "source": [
    "def show_corners(img, corners):\n",
    "    for corner in corners:\n",
    "        cv2.circle(img, tuple(map(int, corner)), radius=10, color=(255, 0, 0), thickness=-1)"
   ]
  },
  {
   "cell_type": "markdown",
   "metadata": {},
   "source": [
    "### Copy imgs"
   ]
  },
  {
   "cell_type": "code",
   "execution_count": 11,
   "metadata": {},
   "outputs": [],
   "source": [
    "DATA_DIR = 'data/'\n",
    "DIR_ORG = DATA_DIR + 'v1.0.2/'\n",
    "DIR_SYN = DATA_DIR + 'synthetic/origin/'"
   ]
  },
  {
   "cell_type": "code",
   "execution_count": 12,
   "metadata": {},
   "outputs": [
    {
     "name": "stdout",
     "output_type": "stream",
     "text": [
      "CitizenCardV1_back : 385\n",
      "CitizenCardV1_front : 400\n",
      "CitizenCardV2_back : 340\n",
      "CitizenCardV2_front : 393\n",
      "IdentificationCard_back : 384\n",
      "IdentificationCard_front : 383\n",
      "LicenseCard : 189\n",
      "Other : 36\n",
      "Passport : 10\n"
     ]
    }
   ],
   "source": [
    "for dir in os.listdir(DIR_SYN):\n",
    "    print(f\"{dir} : {len(os.listdir(DIR_SYN + dir))}\")"
   ]
  },
  {
   "cell_type": "code",
   "execution_count": 30,
   "metadata": {},
   "outputs": [
    {
     "data": {
      "text/plain": [
       "['cccd_v1_back',\n",
       " 'cccd_v1_front',\n",
       " 'cccd_v2_back',\n",
       " 'cccd_v2_front',\n",
       " 'cmnd_v1_back',\n",
       " 'cmnd_v1_front']"
      ]
     },
     "execution_count": 30,
     "metadata": {},
     "output_type": "execute_result"
    }
   ],
   "source": [
    "dirs = os.listdir(DIR_ORG)\n",
    "dirs"
   ]
  },
  {
   "cell_type": "code",
   "execution_count": 34,
   "metadata": {},
   "outputs": [],
   "source": [
    "new_dirs = ['CitizenCardV1_back', 'CitizenCardV1_front', 'CitizenCardV2_back', 'CitizenCardV2_front', 'IdentificationCard_back', 'IdentificationCard_front']"
   ]
  },
  {
   "cell_type": "code",
   "execution_count": 40,
   "metadata": {},
   "outputs": [
    {
     "name": "stdout",
     "output_type": "stream",
     "text": [
      "cccd_v1_back : 1925 ---> CitizenCardV1_back : 385\n",
      "cccd_v1_front : 2000 ---> CitizenCardV1_front : 400\n",
      "cccd_v2_back : 1700 ---> CitizenCardV2_back : 340\n",
      "cccd_v2_front : 1965 ---> CitizenCardV2_front : 393\n",
      "cmnd_v1_back : 1920 ---> IdentificationCard_back : 384\n",
      "cmnd_v1_front : 1915 ---> IdentificationCard_front : 383\n"
     ]
    }
   ],
   "source": [
    "import shutil\n",
    "\n",
    "for j, dir in enumerate(dirs):\n",
    "    src_dir = DIR_ORG + dir + '/images/part_1/'\n",
    "    imgs = list(sorted(os.listdir(src_dir)))\n",
    "\n",
    "    dst_dir = DIR_SYN + new_dirs[j] + '/'\n",
    "    os.makedirs(dst_dir, exist_ok=True)\n",
    "    \n",
    "    i = 0\n",
    "    while i < len(imgs):\n",
    "        img_name = imgs[i].split('.')[0]\n",
    "        img_name = '_'.join(p for p in img_name.split('_')[1:-1])\n",
    "        if img_name.startswith('_'):\n",
    "            img_name = '_'.join(p for p in img_name.split('_')[1:])\n",
    "        \n",
    "        if not os.path.exists(dst_dir + imgs[i]):\n",
    "            shutil.copy(src_dir + imgs[i], dst_dir + img_name + '.png')\n",
    "        i += 5\n",
    "\n",
    "    print(f\"{dir} : {len(imgs)} ---> {new_dirs[j]} : {len(os.listdir(dst_dir))}\")\n",
    "\n"
   ]
  },
  {
   "cell_type": "markdown",
   "metadata": {},
   "source": [
    "### Create original data for `LicenceCard`, `Other`, `Passport` classes"
   ]
  },
  {
   "cell_type": "code",
   "execution_count": 69,
   "metadata": {},
   "outputs": [],
   "source": [
    "DATA_DIR = 'data/'\n",
    "\n",
    "DIR_SRC = DATA_DIR + 'clfn/'\n",
    "DIR_DST = DATA_DIR + 'synthetic/origin/'"
   ]
  },
  {
   "cell_type": "code",
   "execution_count": 114,
   "metadata": {},
   "outputs": [],
   "source": [
    "anno_dir = DIR_SRC + 'annos/'\n",
    "img_dir = DIR_SRC + 'images/'\n",
    "\n",
    "\n",
    "for dir in os.listdir(img_dir):\n",
    "    # Read anno file\n",
    "    anno = json.load(open(anno_dir + dir + '.json'))\n",
    "\n",
    "    if len(anno['images']) != len(anno['annotations']):\n",
    "        print(f\"Diffenct size: {len(anno['images'])} images with {len(anno['annotations'])} annos for [{dir}]\")\n",
    "        continue\n",
    "\n",
    "    for i in range(len(anno['images'])):\n",
    "        # Take image file\n",
    "\n",
    "        img_file = anno['images'][i]['file_name']\n",
    "        img_path = img_dir + dir + '/' + img_file\n",
    "\n",
    "        if os.path.exists(img_path):\n",
    "            # Load image\n",
    "            img = cv2.imread(img_path)\n",
    "\n",
    "            # Take coordinates of segmentation points\n",
    "            coords = anno['annotations'][i]['segmentation'][0]\n",
    "            points = []\n",
    "            for i in range(len(coords)):\n",
    "                if i % 2 == 0:\n",
    "                    points.append(tuple(map(int, (coords[i], coords[i+1]))))\n",
    "\n",
    "            # Convert to numpy array\n",
    "            pts = np.array([np.array(i) for i in points])\n",
    "\n",
    "            # Get 4 corners\n",
    "            s = pts.sum(axis=1)\n",
    "            tl = pts[np.argmin(s)]\n",
    "            br = pts[np.argmax(s)]\n",
    "\n",
    "            diff = np.diff(pts, axis=1)\n",
    "            tr = pts[np.argmin(diff)]\n",
    "            bl = pts[np.argmax(diff)]\n",
    "            \n",
    "            corners = [tl, tr, br, bl]\n",
    "\n",
    "            # Define source points on original image\n",
    "            src = np.array(corners, dtype='float32')\n",
    "\n",
    "            # Get the shape of new image\n",
    "            mins = np.min(pts, axis=0)\n",
    "            x_min, y_min = map(int, (mins[0], mins[1]))\n",
    "            maxs = np.max(pts, axis=0)\n",
    "            x_max, y_max = map(int, (maxs[0], maxs[1]))\n",
    "\n",
    "            new_w = x_max - x_min\n",
    "            new_h = y_max - y_min\n",
    "\n",
    "            # Define destination points on new image\n",
    "            dst = np.array([\n",
    "                [0, 0],\n",
    "                [new_w - 1, 0],\n",
    "                [new_w - 1, new_h - 1],\n",
    "                [0, new_h]],\n",
    "                dtype='float32')\n",
    "\n",
    "            # Perform 'reversed' perspective transform\n",
    "            trans_mat = cv2.getPerspectiveTransform(src, dst)\n",
    "            warp = cv2.warpPerspective(img, trans_mat, (new_w, new_h))\n",
    "\n",
    "            dst_dir = DIR_DST + dir + '/'\n",
    "            if not os.path.exists(dst_dir):\n",
    "                os.mkdir(dst_dir)\n",
    "            cv2.imwrite(dst_dir + img_file, warp)\n",
    "\n",
    "        else:\n",
    "            print(f\"Missing image [{img_file}]\")\n"
   ]
  },
  {
   "cell_type": "markdown",
   "metadata": {},
   "source": [
    "### Background"
   ]
  },
  {
   "cell_type": "code",
   "execution_count": 62,
   "metadata": {},
   "outputs": [],
   "source": [
    "DATA_DIR = 'data/'\n",
    "DIR_SRC = DATA_DIR + 'background/'\n",
    "DIR_DST = DATA_DIR + 'synthetic/resized_bg/'\n",
    "if not os.path.exists(DIR_DST):\n",
    "    os.mkdir(DIR_DST)"
   ]
  },
  {
   "cell_type": "code",
   "execution_count": 65,
   "metadata": {},
   "outputs": [
    {
     "name": "stdout",
     "output_type": "stream",
     "text": [
      "bg_0.jpeg : (1024, 1365, 3)\n",
      "bg_1.png : (1024, 1365, 3)\n",
      "bg_2.jpg : (1024, 1024, 3)\n",
      "bg_3.jpg : (523, 640, 3)\n",
      "bg_4.jpg : (631, 950, 3)\n",
      "bg_5.png : (376, 550, 3)\n",
      "bg_6.jpg : (1280, 1440, 3)\n",
      "bg_7.png : (866, 1300, 3)\n",
      "bg_8.png : (866, 1300, 3)\n",
      "bg_9.jpg : (1280, 1280, 3)\n"
     ]
    }
   ],
   "source": [
    "for bg in os.listdir(DIR_SRC):\n",
    "    img = cv2.imread(DIR_SRC + bg)\n",
    "    resized = cv2.resize(img, (1024, 1024))\n",
    "    \n",
    "    print(f\"{bg} : {img.shape}\")\n",
    "    resized_path = DIR_DST + 'resized_' + bg.split('.')[0] + '.png'\n",
    "    if not os.path.exists(resized_path):\n",
    "        cv2.imwrite(resized_path, resized)"
   ]
  },
  {
   "cell_type": "markdown",
   "metadata": {},
   "source": [
    "### Data Synthesis"
   ]
  },
  {
   "cell_type": "code",
   "execution_count": 14,
   "metadata": {},
   "outputs": [],
   "source": [
    "DATA_DIR = 'data/synthetic/'\n",
    "DIR_BG = DATA_DIR + 'resized_bg/'\n",
    "DIR_ORG = DATA_DIR + 'origin/'\n",
    "DIR_SYN = DATA_DIR + 'synthesis/'\n",
    "\n",
    "for s in ['images/', 'masks']:\n",
    "    if not os.path.exists(DIR_SYN + s):\n",
    "        os.mkdir(DIR_SYN + s)"
   ]
  },
  {
   "cell_type": "code",
   "execution_count": 3,
   "metadata": {},
   "outputs": [
    {
     "data": {
      "text/plain": [
       "['CitizenCardV1_back',\n",
       " 'CitizenCardV1_front',\n",
       " 'CitizenCardV2_back',\n",
       " 'CitizenCardV2_front',\n",
       " 'IdentificationCard_back',\n",
       " 'IdentificationCard_front',\n",
       " 'LicenseCard',\n",
       " 'Other',\n",
       " 'Passport']"
      ]
     },
     "execution_count": 3,
     "metadata": {},
     "output_type": "execute_result"
    }
   ],
   "source": [
    "dirs = list(sorted(os.listdir(DIR_ORG)))\n",
    "dirs"
   ]
  },
  {
   "cell_type": "code",
   "execution_count": 4,
   "metadata": {},
   "outputs": [],
   "source": [
    "def get_params(width: int, height: int, distortion_scale: float):\n",
    "    \"\"\"Get parameters for ``perspective`` for a random perspective transform.\n",
    "\n",
    "    Args:\n",
    "        width (int): width of the image.\n",
    "        height (int): height of the image.\n",
    "        distortion_scale (float): argument to control the degree of distortion and ranges from 0 to 1.\n",
    "\n",
    "    Returns:\n",
    "        List containing [top-left, top-right, bottom-right, bottom-left] of the original image,\n",
    "        List containing [top-left, top-right, bottom-right, bottom-left] of the transformed image.\n",
    "    \"\"\"\n",
    "    half_height = height // 2\n",
    "    half_width = width // 2\n",
    "    topleft = np.array([\n",
    "        int(np.random.randint(0, int(distortion_scale * half_width) + 1, size=(1,))),\n",
    "        int(np.random.randint(0, int(distortion_scale * half_height) + 1, size=(1,))),\n",
    "    ])\n",
    "    topright = np.array([\n",
    "        int(np.random.randint(width - int(distortion_scale * half_width) - 1, width, size=(1,))),\n",
    "        int(np.random.randint(0, int(distortion_scale * half_height) + 1, size=(1,))),\n",
    "    ])\n",
    "    botright = np.array([\n",
    "        int(np.random.randint(width - int(distortion_scale * half_width) - 1, width, size=(1,))),\n",
    "        int(np.random.randint(height - int(distortion_scale * half_height) - 1, height, size=(1,))),\n",
    "    ])\n",
    "    botleft = np.array([\n",
    "        int(np.random.randint(0, int(distortion_scale * half_width) + 1, size=(1,))),\n",
    "        int(np.random.randint(height - int(distortion_scale * half_height) - 1, height, size=(1,))),\n",
    "    ])\n",
    "    startpoints = np.array([[0, 0], [width - 1, 0], [width - 1, height - 1], [0, height - 1]], dtype='float32')\n",
    "    endpoints = np.array([topleft, topright, botright, botleft], dtype='float32')\n",
    "    return startpoints, endpoints"
   ]
  },
  {
   "cell_type": "code",
   "execution_count": 17,
   "metadata": {},
   "outputs": [
    {
     "name": "stdout",
     "output_type": "stream",
     "text": [
      "(480, 746, 3)\n",
      "[[ 17.  19.]\n",
      " [729.  21.]\n",
      " [705. 456.]\n",
      " [ 26. 469.]]\n",
      "(480, 746, 3) (450, 712, 3)\n",
      "[[17 19]]\n",
      "[[  0.   0.]\n",
      " [712.   2.]\n",
      " [688. 437.]\n",
      " [  9. 450.]]\n",
      "48 71\n",
      "[[544 619]]\n",
      "[[ 48.  71.]\n",
      " [760.  73.]\n",
      " [736. 508.]\n",
      " [ 57. 521.]]\n"
     ]
    },
    {
     "data": {
      "image/png": "[encoded data removed]",
      "text/plain": [
       "<Figure size 432x288 with 1 Axes>"
      ]
     },
     "metadata": {
      "needs_background": "light"
     },
     "output_type": "display_data"
    }
   ],
   "source": [
    "\n",
    "for dir in dirs:\n",
    "    img = cv2.imread(src_dir + img_name)\n",
    "\n",
    "    # show_cv_img(img)\n",
    "    print(img.shape)\n",
    "    \n",
    "\n",
    "    \n",
    "    \n",
    "    \n",
    "    # for corner in dst:\n",
    "    #     cv2.circle(warp, tuple(map(int, corner)), radius=10, color=(0, 0, 255), thickness=-1)\n",
    "    \n",
    "    print(dst)\n",
    "\n",
    "\n",
    "    # print(x_min, y_min, x_max, y_max)\n",
    "    \n",
    "\n",
    "    print(warp.shape, cut.shape)\n",
    "\n",
    "    # show_cv_img(warp)\n",
    "\n",
    "    \n",
    "    # print(cut.shape)\n",
    "    # diff = np.array([[height - cut_height, width - cut_width]])\n",
    "    \n",
    "    print(diff)\n",
    "    \n",
    "    print(dst_cut)\n",
    "    # for corner in dst_cut:\n",
    "    #     cv2.circle(cut, tuple(map(int, corner)), radius=10, color=(0, 0, 255), thickness=-1)\n",
    "    \n",
    "    \n",
    "    show_cv_img(mask_cut)\n",
    "\n",
    "\n",
    "    # print(bg.shape)\n",
    "    \n",
    "\n",
    "    # rand_x = np.random.randint(cut_width//2 + 1, bg_width - cut_width//2 - 1)\n",
    "    # rand_y = np.random.randint(cut_height//2 + 1, bg_height - cut_height//2 - 1)\n",
    "    # rand_center = (rand_x, rand_y)\n",
    "    # print(rand_center)\n",
    "    # cv2.circle(bg, rand_center, radius=10, color=(255, 0, 0), thickness=-1)\n",
    "\n",
    "    # mask = np.zeros(cut.shape, cut.dtype)\n",
    "    # cv2.fillPoly(mask, [dst.astype('int32')], (255, 255, 255))\n",
    "    # clone = cv2.seamlessClone(cut, bg, mask, rand_center, cv2.NORMAL_CLONE)\n",
    "\n",
    "\n",
    "    print(rand_x, rand_y)\n",
    "    # cv2.circle(bg, (rand_x, rand_y), radius=10, color=(255, 0, 0), thickness=-1)      \n",
    "\n",
    "    # bg[rand_y:rand_y+cut_height, rand_x:rand_x+cut_width] = cut\n",
    "    # show_cv_img(bg)\n",
    "    # cv2.imwrite(DIR_SYN + 'test.png', bg)\n",
    "\n",
    "    rand_start = np.array([[rand_x, rand_y]])\n",
    "    diff = np.array([[bg_height - height, bg_width - width]], dtype='int32')\n",
    "    print(diff)\n",
    "\n",
    "    corners = rand_start + dst_cut # - diff\n",
    "    print(corners)\n",
    "    # for corner in corners:\n",
    "    #     cv2.circle(bg, tuple(map(int, corner)), radius=10, color=(0, 0, 255), thickness=-1)\n",
    "\n",
    "\n"
   ]
  },
  {
   "cell_type": "code",
   "execution_count": 5,
   "metadata": {},
   "outputs": [
    {
     "ename": "NameError",
     "evalue": "name 'cv2' is not defined",
     "output_type": "error",
     "traceback": [
      "\u001b[1;31m---------------------------------------------------------------------------\u001b[0m",
      "\u001b[1;31mNameError\u001b[0m                                 Traceback (most recent call last)",
      "\u001b[1;32mc:\\Users\\Hi\\Desktop\\ekyc-seg\\synthesis.ipynb Cell 21'\u001b[0m in \u001b[0;36m<cell line: 4>\u001b[1;34m()\u001b[0m\n\u001b[0;32m      <a href='vscode-notebook-cell:/c%3A/Users/Hi/Desktop/ekyc-seg/synthesis.ipynb#ch0000020?line=3'>4</a>\u001b[0m \u001b[39mfor\u001b[39;00m j, \u001b[39mdir\u001b[39m \u001b[39min\u001b[39;00m \u001b[39menumerate\u001b[39m(dirs):\n\u001b[0;32m      <a href='vscode-notebook-cell:/c%3A/Users/Hi/Desktop/ekyc-seg/synthesis.ipynb#ch0000020?line=4'>5</a>\u001b[0m     \u001b[39mfor\u001b[39;00m i, bg \u001b[39min\u001b[39;00m \u001b[39menumerate\u001b[39m(os\u001b[39m.\u001b[39mlistdir(DIR_ORG \u001b[39m+\u001b[39m \u001b[39mdir\u001b[39m \u001b[39m+\u001b[39m \u001b[39m'\u001b[39m\u001b[39m/\u001b[39m\u001b[39m'\u001b[39m)):\n\u001b[1;32m----> <a href='vscode-notebook-cell:/c%3A/Users/Hi/Desktop/ekyc-seg/synthesis.ipynb#ch0000020?line=5'>6</a>\u001b[0m         img \u001b[39m=\u001b[39m cv2\u001b[39m.\u001b[39mimread(DIR_ORG \u001b[39m+\u001b[39m \u001b[39mdir\u001b[39m \u001b[39m+\u001b[39m \u001b[39m'\u001b[39m\u001b[39m/\u001b[39m\u001b[39m'\u001b[39m \u001b[39m+\u001b[39m bg)\n\u001b[0;32m      <a href='vscode-notebook-cell:/c%3A/Users/Hi/Desktop/ekyc-seg/synthesis.ipynb#ch0000020?line=7'>8</a>\u001b[0m         h, w \u001b[39m=\u001b[39m img\u001b[39m.\u001b[39mshape[:\u001b[39m2\u001b[39m]\n\u001b[0;32m      <a href='vscode-notebook-cell:/c%3A/Users/Hi/Desktop/ekyc-seg/synthesis.ipynb#ch0000020?line=8'>9</a>\u001b[0m         ratio \u001b[39m=\u001b[39m w \u001b[39m/\u001b[39m h\n",
      "\u001b[1;31mNameError\u001b[0m: name 'cv2' is not defined"
     ]
    }
   ],
   "source": [
    "avg_w, avg_h, avg_ratio = 0, 0, 0\n",
    "global_avg_w, global_avg_h, global_avg_ratio = 0, 0, 0\n",
    "\n",
    "for j, dir in enumerate(dirs):\n",
    "    for i, bg in enumerate(os.listdir(DIR_ORG + dir + '/')):\n",
    "        img = cv2.imread(DIR_ORG + dir + '/' + bg)\n",
    "\n",
    "        h, w = img.shape[:2]\n",
    "        ratio = w / h\n",
    "        \n",
    "        avg_w = (avg_w * i + w) / (i + 1)\n",
    "        avg_h = (avg_h * i + h) / (i + 1)\n",
    "        avg_ratio = (avg_ratio * i + ratio) / (i + 1)\n",
    "        # print(f\"{bg} : {img.shape}\")\n",
    "    #print(avg)\n",
    "    global_avg_w = (global_avg_w * j + avg_w) / (j + 1)\n",
    "    global_avg_h = (global_avg_h * j + avg_h) / (j + 1)\n",
    "    global_avg_ratio = (global_avg_ratio * j + avg_ratio) / (j + 1)\n",
    "\n",
    "print(global_avg_w)\n",
    "print(global_avg_h)\n",
    "print(global_avg_ratio)"
   ]
  },
  {
   "cell_type": "code",
   "execution_count": 7,
   "metadata": {},
   "outputs": [],
   "source": [
    "def resize_obj(img):\n",
    "    h, w = img.shape[:2]\n",
    "\n",
    "    new_w = int(w * 540 / h)\n",
    "    img = cv2.resize(img, (new_w, 540))\n",
    "    if new_w > 840:\n",
    "        img = cv2.resize(img, (840, int(540 * 840 / new_w)))\n",
    "    \n",
    "    # if h > 540:\n",
    "    #     new_w = int(w * 540 / h)\n",
    "    #     img = cv2.resize(img, (new_w, 540))\n",
    "    #     if new_w > 840:\n",
    "    #         img = cv2.resize(img, (840, int(540 * 840 / new_w)))\n",
    "    # if w > 840:\n",
    "    #     img = cv2.resize(img, (840, int(h * 840 / w)))\n",
    "    \n",
    "    ratio = np.random.choice(np.arange(0.5, 1.2, 0.1))\n",
    "    h, w = img.shape[:2]\n",
    "    img = cv2.resize(img, (int(ratio * w), int(ratio * h)))\n",
    "    return img"
   ]
  },
  {
   "cell_type": "code",
   "execution_count": 18,
   "metadata": {},
   "outputs": [],
   "source": [
    "def transform(img, width, height):\n",
    "    # Perspective transform\n",
    "    src, dst = get_params(width, height, distortion_scale=0.15)\n",
    "    trans_mat = cv2.getPerspectiveTransform(src, dst)\n",
    "    warp = cv2.warpPerspective(img, trans_mat, (width, height))\n",
    "\n",
    "    mins = np.min(dst, axis=0)\n",
    "    x_min, y_min = map(int, (mins[0], mins[1]))\n",
    "    maxs = np.max(dst, axis=0)\n",
    "    x_max, y_max = map(int, (maxs[0], maxs[1]))\n",
    "\n",
    "    cut = warp[y_min:y_max, x_min:x_max]\n",
    "    cut_height, cut_width = cut.shape[:2]\n",
    "\n",
    "    diff = np.array([[x_min, y_min]])\n",
    "    dst_cut = dst - diff\n",
    "\n",
    "    # Random rotate 90 degrees\n",
    "    p = np.random.choice(3, p=[0.6, 0.2, 0.2])\n",
    "    if p == 1:\n",
    "        rt_cut = cv2.rotate(cut, cv2.ROTATE_90_CLOCKWISE)\n",
    "        tl = np.array([cut_height - dst_cut[3][1], dst_cut[3][0]])\n",
    "        tr = np.array([cut_height - dst_cut[0][1], dst_cut[0][0]])\n",
    "        br = np.array([cut_height - dst_cut[1][1], dst_cut[1][0]])\n",
    "        bl = np.array([cut_height - dst_cut[2][1], dst_cut[2][0]])\n",
    "        new_dst = np.array([tl ,tr, br, bl])\n",
    "        return rt_cut, new_dst\n",
    "    elif p == 2:\n",
    "        rt_cut = cv2.rotate(cut, cv2.ROTATE_90_COUNTERCLOCKWISE)\n",
    "        tl = np.array([dst_cut[1][1], cut_width - dst_cut[1][0]])\n",
    "        tr = np.array([dst_cut[2][1], cut_width - dst_cut[2][0]])\n",
    "        br = np.array([dst_cut[3][1], cut_width - dst_cut[3][0]])\n",
    "        bl = np.array([dst_cut[0][1], cut_width - dst_cut[0][0]])\n",
    "        new_dst = np.array([tl ,tr, br, bl])\n",
    "        return rt_cut, new_dst\n",
    "    else:\n",
    "        return cut, dst_cut"
   ]
  },
  {
   "cell_type": "code",
   "execution_count": 9,
   "metadata": {},
   "outputs": [],
   "source": [
    "def augment(img_info, rate=1, show_annos=False):\n",
    "    # Init lists for annotation\n",
    "    images, annotations = [], []\n",
    "\n",
    "    org_img = cv2.imread(img_info['path'])\n",
    "    img = org_img.copy()\n",
    "\n",
    "    for r in range(rate):\n",
    "        ## Resize img with random ratio\n",
    "        img = resize_obj(img)\n",
    "        height, width = img.shape[:2]\n",
    "        # if img.shape != resized.shape:\n",
    "        #     print(f\"{img_name} : {img.shape} ---> {resized.shape}\")\n",
    "        #     cv2.imwrite(dst_dir + 'origin.png', img)\n",
    "        #     cv2.imwrite(dst_dir + 'resized.png', resized)\n",
    "        #     break\n",
    "        \n",
    "        ## Transform img\n",
    "        cut, dst_cut = transform(img, width, height)\n",
    "        cut_height, cut_width = cut.shape[:2]\n",
    "\n",
    "        ## Create mask of object\n",
    "        mask_cut = np.zeros(cut.shape, dtype='uint8')        \n",
    "        cv2.drawContours(mask_cut, [dst_cut.reshape((-1, 1, 2)).astype('int32')], -1, (255, 255, 255), -1)\n",
    "\n",
    "        ## Get random background\n",
    "        bg_num = np.random.randint(0, 10)\n",
    "        bg = cv2.imread(DIR_BG + f'resized_bg_{bg_num}.png')\n",
    "        bg_height, bg_width = bg.shape[:2]\n",
    "        bg_org = bg.copy()\n",
    "\n",
    "        ## Create random root point \n",
    "        rand_x = np.random.randint(0, bg_width - cut_width - 1)\n",
    "        rand_y = np.random.randint(0, bg_height - cut_height - 1)\n",
    "        root_point = (rand_x, rand_y)\n",
    "\n",
    "        ## Calculate new corners and convert to segmentation for annos\n",
    "        corners = dst_cut + np.array([[rand_x, rand_y]])\n",
    "        segment = [[]]\n",
    "        for corner in corners:\n",
    "            segment[0].extend(list(corner))\n",
    "\n",
    "        ## Combine object with random background to create composite image\n",
    "        fin_cut = cv2.cvtColor(cut, cv2.COLOR_RGB2RGBA)\n",
    "        blue, green, red, a = cv2.split(fin_cut)\n",
    "        a = mask_cut\n",
    "        fin_cut[:, :, 0] = cut[:, :, 0]\n",
    "        fin_cut[:, :, 1] = cut[:, :, 1]\n",
    "        fin_cut[:, :, 2] = cut[:, :, 2]\n",
    "        fin_cut[:, :, 3] = a[:, :, 0]\n",
    "\n",
    "        alpha_s = fin_cut[:, :, 3] / 255.\n",
    "        alpha_l = 1. - alpha_s\n",
    "\n",
    "        for c in range(3):\n",
    "            bg[rand_y:rand_y+cut_height, rand_x:rand_x+cut_width, c] = (alpha_s * cut[:, :, c] +\n",
    "                                alpha_l * bg[rand_y:rand_y+cut_height, rand_x:rand_x+cut_width, c])\n",
    "\n",
    "        ## Smooth edges with Gaussian Blur\n",
    "        mask_bg = np.zeros(bg.shape, dtype='uint8')\n",
    "        mask_bg[rand_y:rand_y+cut_height, rand_x:rand_x+cut_width] = mask_cut\n",
    "\n",
    "        alpha = cv2.GaussianBlur(mask_bg, (15, 15), 50).astype('float32') / 255.\n",
    "\n",
    "        comp = alpha * bg.astype('float32') + (1 - alpha) * bg_org.astype('float32')\n",
    "\n",
    "        ## Show annos\n",
    "        if show_annos:\n",
    "            # Bounding box\n",
    "            cv2.rectangle(comp, (rand_x, rand_y), (rand_x+cut_width, rand_y+cut_height), (0, 255, 0))\n",
    "\n",
    "            # Corners and segmentation mask\n",
    "            for corner in corners:\n",
    "                cv2.circle(comp, tuple(map(int, corner)), radius=5, color=(0, 0, 255), thickness=-1)\n",
    "            # seg = np.zeros(cut.shape, dtype='uint8')\n",
    "            # cv2.drawContours(comp, [corners.reshape((-1, 1, 2)).astype('int32')], -1, (255, 255, 255), -1)\n",
    "\n",
    "            # Root point\n",
    "            cv2.circle(comp, root_point, radius=5, color=(255, 0, 0), thickness=-1)\n",
    "        \n",
    "        ## Write composite image & mask image\n",
    "        # old_name = img_info['name'].split('.')[0]\n",
    "        # new_name = old_name + f'_{r}.png'\n",
    "        img_name = f\"{img_info['class']}_{img_info['num']}_aug_{r}.png\"\n",
    "        mask_name = f\"{img_info['class']}_{img_info['num']}_aug_{r}_mask.png\"\n",
    "        cv2.imwrite(DIR_SYN + 'images/' + img_name, comp)\n",
    "        cv2.imwrite(DIR_SYN + 'masks/' + mask_name, mask_bg)\n",
    "\n",
    "        ## Write annos\n",
    "        image = {\n",
    "            'id': img_info['start_id'] + r,\n",
    "            'file_name': img_name,\n",
    "            'height': comp.shape[0],\n",
    "            'width': comp.shape[1],\n",
    "            'mask_name': mask_name\n",
    "        }\n",
    "\n",
    "        annotation = {\n",
    "            'id': img_info['start_id'] + r,\n",
    "            'image_id': img_info['start_id'] + r,\n",
    "            'iscrowd': 0,\n",
    "            'category_id': img_info['cls_id'],\n",
    "            'bbox': [rand_x * 1., rand_y * 1., cut_width * 1., cut_height * 1.],\n",
    "            'box': [rand_x * 1., rand_y * 1., (rand_x + cut_width) * 1., (rand_y + cut_height) * 1.],\n",
    "            'area': cut_width * cut_height * 1.,\n",
    "            'segmentation': segment\n",
    "        }\n",
    "\n",
    "        images.append(image)\n",
    "        annotations.append(annotation)\n",
    "    return images, annotations\n",
    "\n",
    "        "
   ]
  },
  {
   "cell_type": "code",
   "execution_count": 19,
   "metadata": {},
   "outputs": [],
   "source": [
    "images, annotations = [], []\n",
    "curr_id = 0\n",
    "\n",
    "for cls_id, dir in enumerate(dirs):\n",
    "    src_dir = DIR_ORG + dir + '/'\n",
    "    dst_dir = DIR_SYN + dir + '/'\n",
    "    # if not os.path.exists(dst_dir):\n",
    "    #     os.mkdir(dst_dir)\n",
    "    \n",
    "    num_img = len(os.listdir(src_dir))\n",
    "    rate = 400 // num_img\n",
    "\n",
    "    for img_num, img_file in enumerate(os.listdir(src_dir)[:5]):\n",
    "        img_path = src_dir + img_file\n",
    "        \n",
    "        img_info = {\n",
    "            'start_id': curr_id,\n",
    "            'num': img_num,\n",
    "            'path': img_path,\n",
    "            'class': dir,\n",
    "            'cls_id': cls_id + 1\n",
    "        }\n",
    "        \n",
    "        images_, annotations_ = augment(img_info, rate=rate, show_annos=False)\n",
    "        images.extend(images_)\n",
    "        annotations.extend(annotations_)\n",
    "\n",
    "        curr_id += rate\n",
    "    \n",
    "    print(f\"{dir} : {num_img * rate}\")\n",
    "\n",
    "        # break\n",
    "    # break"
   ]
  },
  {
   "cell_type": "code",
   "execution_count": 21,
   "metadata": {},
   "outputs": [],
   "source": [
    "with open(DIR_SYN + 'annotations.json', 'w+') as f:\n",
    "    json.dump({\n",
    "        'info': {\n",
    "            'description': \"eKYC Synthetic Dataset\",\n",
    "            'version': \"v1.0\",\n",
    "            'date_created': \"07/04/2022\",\n",
    "            'contributor': \"phatdp, cuonghv\"\n",
    "        },\n",
    "        'categories': [\n",
    "            {'id': 1, 'name': \"CitizenCardV1_back\"},\n",
    "            {'id': 2, 'name': \"CitizenCardV1_front\"},\n",
    "            {'id': 3, 'name': \"CitizenCardV2_back\"},\n",
    "            {'id': 4, 'name': \"CitizenCardV2_front\"},\n",
    "            {'id': 5, 'name': \"IdentificationCard_back\"},\n",
    "            {'id': 6, 'name': \"IdentificationCard_front\"},\n",
    "            {'id': 7, 'name': \"LicenseCard\"},\n",
    "            {'id': 8, 'name': \"Other\"},\n",
    "            {'id': 9, 'name': \"Passport\"}\n",
    "        ],\n",
    "        'images': images,\n",
    "        'annotations': annotations\n",
    "    }, f, indent=4)"
   ]
  },
  {
   "cell_type": "code",
   "execution_count": null,
   "metadata": {},
   "outputs": [],
   "source": []
  }
 ],
 "metadata": {
  "interpreter": {
   "hash": "7641052d6760fd4b0577988d5c63a2ad36bf4fbb0e0da31283f90db6ffd2260e"
  },
  "kernelspec": {
   "display_name": "Python 3.9.7 ('ve1')",
   "language": "python",
   "name": "python3"
  },
  "language_info": {
   "codemirror_mode": {
    "name": "ipython",
    "version": 3
   },
   "file_extension": ".py",
   "mimetype": "text/x-python",
   "name": "python",
   "nbconvert_exporter": "python",
   "pygments_lexer": "ipython3",
   "version": "3.9.7"
  },
  "orig_nbformat": 4
 },
 "nbformat": 4,
 "nbformat_minor": 2
}
