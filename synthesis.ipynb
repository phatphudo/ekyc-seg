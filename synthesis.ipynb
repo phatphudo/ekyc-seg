{
 "cells": [
  {
   "cell_type": "code",
   "execution_count": null,
   "metadata": {},
   "outputs": [],
   "source": [
    "DATA_DIR = 'data/'"
   ]
  }
 ],
 "metadata": {
  "interpreter": {
   "hash": "7641052d6760fd4b0577988d5c63a2ad36bf4fbb0e0da31283f90db6ffd2260e"
  },
  "kernelspec": {
   "display_name": "Python 3.9.7 ('ve1')",
   "language": "python",
   "name": "python3"
  },
  "language_info": {
   "name": "python",
   "version": "3.9.7"
  },
  "orig_nbformat": 4
 },
 "nbformat": 4,
 "nbformat_minor": 2
}
